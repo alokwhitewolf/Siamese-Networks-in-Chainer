{
 "cells": [
  {
   "cell_type": "code",
   "execution_count": 0,
   "metadata": {
    "colab": {
     "autoexec": {
      "startup": false,
      "wait_interval": 0
     }
    },
    "colab_type": "code",
    "id": "RdHZr87pfMgN"
   },
   "outputs": [],
   "source": [
    "import numpy as np\n",
    "import chainer\n",
    "from chainer import cuda, Function, gradient_check, report, training, utils, Variable\n",
    "from chainer import datasets, iterators, optimizers, serializers, reporter\n",
    "from chainer import Link, Chain, ChainList\n",
    "from chainer.dataset import convert\n",
    "from chainer.dataset import iterator as iterator_module\n",
    "import chainer.functions as F\n",
    "import chainer.links as L\n",
    "from chainer.training import extensions\n",
    "\n",
    "from matplotlib import pyplot as plt\n",
    "import cupy as cp\n",
    "\n",
    "import itertools"
   ]
  },
  {
   "cell_type": "code",
   "execution_count": 0,
   "metadata": {
    "colab": {
     "autoexec": {
      "startup": false,
      "wait_interval": 0
     }
    },
    "colab_type": "code",
    "id": "iVr21CEdh6Hm"
   },
   "outputs": [],
   "source": [
    "train, test = datasets.get_mnist(withlabel=True, ndim=2)"
   ]
  },
  {
   "cell_type": "code",
   "execution_count": 0,
   "metadata": {
    "colab": {
     "autoexec": {
      "startup": false,
      "wait_interval": 0
     }
    },
    "colab_type": "code",
    "id": "WHIW5htKhhSR"
   },
   "outputs": [],
   "source": [
    "train_images, train_labels = train._datasets[0],train._datasets[1]\n",
    "test_images, test_labels = test._datasets[0],test._datasets[1]\n",
    "del(train)\n",
    "del(test)\n"
   ]
  },
  {
   "cell_type": "code",
   "execution_count": 4,
   "metadata": {
    "colab": {
     "autoexec": {
      "startup": false,
      "wait_interval": 0
     },
     "base_uri": "https://localhost:8080/",
     "height": 52,
     "output_extras": [
      {
       "item_id": 1
      }
     ]
    },
    "colab_type": "code",
    "executionInfo": {
     "elapsed": 1082,
     "status": "ok",
     "timestamp": 1521582437390,
     "user": {
      "displayName": "Alok Bishoyi",
      "photoUrl": "//lh5.googleusercontent.com/-laHHpX5_hlY/AAAAAAAAAAI/AAAAAAAAAJ8/p_ZIeAuApPk/s50-c-k-no/photo.jpg",
      "userId": "101404215883860411191"
     },
     "user_tz": -330
    },
    "id": "QCdNVjm_ici7",
    "outputId": "8a04907e-d8c8-443c-88dd-56f0cdd1795c"
   },
   "outputs": [
    {
     "name": "stdout",
     "output_type": "stream",
     "text": [
      "(10, 28, 28)\n",
      "(10, 10, 28, 28)\n"
     ]
    }
   ],
   "source": [
    "gpu = chainer.cuda.available\n",
    "if gpu\n",
    "    xp = cp\n",
    "else:\n",
    "    xp = np\n",
    "\n",
    "anchor_images = np.empty((1,28,28)).astype(np.float32)\n",
    "training_images = np.empty((1,10,28,28)).astype(np.float32)\n",
    "for i in range(10):\n",
    "    if i == 0:\n",
    "        class_i_images = train_images[np.random.choice(np.where(train_labels == i)[0],11)] #Sample 11 images of class i\n",
    "        to_anchor, to_train = class_i_images[-1], class_i_images[:-1]\n",
    "        anchor_images[i] = to_anchor.reshape(1,28,28)\n",
    "        training_images[i] = to_train.reshape(1,10,28,28)\n",
    "    else:\n",
    "        class_i_images = train_images[np.random.choice(np.where(train_labels == i)[0],11)]\n",
    "        to_anchor, to_train = class_i_images[-1], class_i_images[:-1]\n",
    "        to_anchor = to_anchor.reshape(1,28,28)\n",
    "        to_train = to_train.reshape(1,10,28,28)\n",
    "\n",
    "        anchor_images = np.vstack((anchor_images, to_anchor))\n",
    "        training_images = np.vstack((training_images, to_train)) \n",
    "print(anchor_images.shape)\n",
    "print(training_images.shape)"
   ]
  },
  {
   "cell_type": "code",
   "execution_count": 0,
   "metadata": {
    "colab": {
     "autoexec": {
      "startup": false,
      "wait_interval": 0
     }
    },
    "colab_type": "code",
    "id": "ruHpK6DixKJZ"
   },
   "outputs": [],
   "source": [
    "class SiameseNetwork(Chain):\n",
    "\n",
    "    def __init__(self):\n",
    "        super(SiameseNetwork, self).__init__(\n",
    "            conv1=L.Convolution2D(1, 20, ksize=5, stride=1),\n",
    "            conv2=L.Convolution2D(20, 50, ksize=5, stride=1),\n",
    "            fc3=L.Linear(800, 500),\n",
    "            fc4=L.Linear(500, 10),\n",
    "            fc5=L.Linear(10, 2),\n",
    "        )\n",
    "\n",
    "    def single_forward(self, x_data, train=True):\n",
    "        x = Variable(x_data)\n",
    "        x = F.reshape(x, (-1,1,28,28))\n",
    "        \n",
    "        h = F.max_pooling_2d(self.conv1(x), ksize=2, stride=2)\n",
    "        h = F.max_pooling_2d(self.conv2(h), ksize=2, stride=2)\n",
    "        h = F.relu(self.fc3(h))\n",
    "        h = self.fc4(h)\n",
    "        y = self.fc5(h)\n",
    "\n",
    "        return y\n",
    "\n",
    "    def __call__(self, anchor_img, pos_img, neg_img, train=True):\n",
    "        anchor_encoding = self.single_forward(anchor_img)\n",
    "        pos_img_encoding = self.single_forward(pos_img)\n",
    "        neg_img_encoding = self.single_forward(neg_img)\n",
    "        \n",
    "\n",
    "        return (anchor_encoding, pos_img_encoding, neg_img_encoding)\n",
    "\n"
   ]
  },
  {
   "cell_type": "code",
   "execution_count": 0,
   "metadata": {
    "colab": {
     "autoexec": {
      "startup": false,
      "wait_interval": 0
     }
    },
    "colab_type": "code",
    "id": "u5fNTBU5P73Q"
   },
   "outputs": [],
   "source": [
    "def predict(image, model):\n",
    "    sample_output = model.single_forward(xp.asarray(image)).data\n",
    "    anchor_outputs = model.single_forward(xp.asarray(anchor_images)).data\n",
    "\n",
    "    sample_output = xp.repeat(sample_output,10,axis=0)\n",
    "    diff = sample_output - anchor_outputs\n",
    "    diff_sq = diff**2\n",
    "\n",
    "    \n",
    "    return xp.asnumpy(xp.argmin(xp.sum(diff_sq,axis =1)))\n",
    "\n",
    "\n",
    "def get_validation(model):\n",
    "    right = wrong = 0\n",
    "    for index in range(test_images.shape[0]):\n",
    "    if predict(test_images[index], model) == test_labels[index]:\n",
    "        right += 1\n",
    "    else:\n",
    "        wrong += 1\n",
    "    return (right/(right+wrong))"
   ]
  },
  {
   "cell_type": "code",
   "execution_count": 7,
   "metadata": {
    "colab": {
     "autoexec": {
      "startup": false,
      "wait_interval": 0
     },
     "base_uri": "https://localhost:8080/",
     "height": 283,
     "output_extras": [
      {
       "item_id": 15
      }
     ]
    },
    "colab_type": "code",
    "executionInfo": {
     "elapsed": 732499,
     "status": "ok",
     "timestamp": 1521583172593,
     "user": {
      "displayName": "Alok Bishoyi",
      "photoUrl": "//lh5.googleusercontent.com/-laHHpX5_hlY/AAAAAAAAAAI/AAAAAAAAAJ8/p_ZIeAuApPk/s50-c-k-no/photo.jpg",
      "userId": "101404215883860411191"
     },
     "user_tz": -330
    },
    "id": "G-lomVEjov30",
    "outputId": "c92f6b4f-8df8-4ea6-8b0c-619cdb6c2ca6"
   },
   "outputs": [
    {
     "name": "stdout",
     "output_type": "stream",
     "text": [
      "epoch no: 00  \tloss:  37.17  \tvalidation acc:  0.25\n",
      "epoch no: 01  \tloss:  29.47  \tvalidation acc:  0.37\n",
      "epoch no: 02  \tloss:  15.23  \tvalidation acc:  0.35\n",
      "epoch no: 03  \tloss:   5.33  \tvalidation acc:  0.40\n",
      "epoch no: 04  \tloss:   2.39  \tvalidation acc:  0.43\n",
      "epoch no: 05  \tloss:   1.04  \tvalidation acc:  0.45\n",
      "epoch no: 06  \tloss:   2.37  \tvalidation acc:  0.41\n",
      "epoch no: 07  \tloss:   0.88  \tvalidation acc:  0.43\n",
      "epoch no: 08  \tloss:   0.21  \tvalidation acc:  0.43\n",
      "epoch no: 09  \tloss:   0.40  \tvalidation acc:  0.44\n",
      "epoch no: 10  \tloss:   0.00  \tvalidation acc:  0.44\n",
      "epoch no: 11  \tloss:   0.00  \tvalidation acc:  0.44\n",
      "epoch no: 12  \tloss:   0.00  \tvalidation acc:  0.44\n",
      "epoch no: 13  \tloss:   0.00  \tvalidation acc:  0.44\n",
      "epoch no: 14  \tloss:   0.00  \tvalidation acc:  0.44\n"
     ]
    }
   ],
   "source": [
    "my_model = SiameseNetwork()\n",
    "if gpu:\n",
    "    my_model.to_gpu()\n",
    "\n",
    "optimizer = optimizers.SGD()\n",
    "optimizer.setup(my_model)\n",
    "\n",
    "epoch_losses = []\n",
    "validation_accuracy = []\n",
    "for epoch in range(15):\n",
    "    epoch_loss = 0\n",
    "    for pos_id,neg_id in itertools.combinations(range(10),2):\n",
    "    for pos_image in training_images[pos_id]:\n",
    "        anchor = anchor_images[pos_id]\n",
    "        batch_anchor = xp.asarray(np.repeat(np.reshape(anchor,(-1,28,28)),10,axis=0))\n",
    "\n",
    "\n",
    "        batch_pos_image = xp.asarray(np.repeat(cp.reshape(pos_image,(-1,28,28)),10,axis=0))\n",
    "        batch_neg_image = xp.asarray(training_images[neg_id])\n",
    "\n",
    "\n",
    "        anchor_encoding, pos_img_encoding, neg_img_encoding = my_model(batch_anchor, \n",
    "                                                                 batch_pos_image,\n",
    "                                                                 batch_neg_image)\n",
    "\n",
    "        my_model.cleargrads()\n",
    "        loss = F.triplet(anchor_encoding, pos_img_encoding, neg_img_encoding, margin=.75)\n",
    "        epoch_loss += loss\n",
    "        loss.backward()\n",
    "        optimizer.update()\n",
    "    validation_acc = get_validation(my_model)\n",
    "    validation_accuracy.append(validation_acc)\n",
    "\n",
    "    print(\"epoch no: %02i  \\tloss: %6.2f  \\tvalidation acc: %5.2f\"%(epoch,epoch_loss.data,validation_acc))\n",
    "    epoch_losses.append(epoch_loss.data)\n",
    "  \n",
    "      \n",
    "#plt.plot(epoch_losses)      \n",
    "      \n",
    "      \n",
    "    \n",
    "    \n",
    "  \n",
    "  "
   ]
  },
  {
   "cell_type": "code",
   "execution_count": 27,
   "metadata": {
    "colab": {
     "autoexec": {
      "startup": false,
      "wait_interval": 0
     },
     "base_uri": "https://localhost:8080/",
     "height": 535,
     "output_extras": [
      {
       "item_id": 1
      },
      {
       "item_id": 2
      },
      {
       "item_id": 3
      }
     ]
    },
    "colab_type": "code",
    "executionInfo": {
     "elapsed": 2039,
     "status": "ok",
     "timestamp": 1521583843730,
     "user": {
      "displayName": "Alok Bishoyi",
      "photoUrl": "//lh5.googleusercontent.com/-laHHpX5_hlY/AAAAAAAAAAI/AAAAAAAAAJ8/p_ZIeAuApPk/s50-c-k-no/photo.jpg",
      "userId": "101404215883860411191"
     },
     "user_tz": -330
    },
    "id": "7nWS1aQNRRlt",
    "outputId": "57f19ee1-2be6-477a-923b-695cbc39d04c"
   },
   "outputs": [
    {
     "data": {
      "image/png": "[encoded data removed]",
      "text/plain": [
       "<matplotlib.figure.Figure at 0x7f64a4cae828>"
      ]
     },
     "metadata": {
      "tags": []
     },
     "output_type": "display_data"
    },
    {
     "data": {
      "image/png": "[encoded data removed]",
      "text/plain": [
       "<matplotlib.figure.Figure at 0x7f64a55dd940>"
      ]
     },
     "metadata": {
      "tags": []
     },
     "output_type": "display_data"
    },
    {
     "data": {
      "text/plain": [
       "<matplotlib.figure.Figure at 0x7f64a5f5ccc0>"
      ]
     },
     "metadata": {
      "tags": []
     },
     "output_type": "display_data"
    }
   ],
   "source": [
    "\n",
    "fig = plt.figure(figsize=(6, 8)) \n",
    "plt.subplot(2, 1, 1)\n",
    "plt.plot(epoch_losses)\n",
    "plt.title('Loss VS Epochs')\n",
    "plt.xlabel('Epoch')\n",
    "plt.ylabel('Loss')\n",
    "\n",
    "\n",
    "\n",
    "fig = plt.figure(figsize=(6, 8)) \n",
    "plt.subplot(2, 1, 2)\n",
    "plt.plot(validation_accuracy,'g')\n",
    "plt.xlabel('Epoch')\n",
    "plt.ylabel('Val Accuracy')\n",
    "\n",
    "plt.show()\n",
    "plt.savefig('foo.png')"
   ]
  },
  {
   "cell_type": "code",
   "execution_count": 46,
   "metadata": {
    "colab": {
     "autoexec": {
      "startup": false,
      "wait_interval": 0
     },
     "base_uri": "https://localhost:8080/",
     "height": 347,
     "output_extras": [
      {
       "item_id": 1
      }
     ]
    },
    "colab_type": "code",
    "executionInfo": {
     "elapsed": 1066,
     "status": "ok",
     "timestamp": 1521584614716,
     "user": {
      "displayName": "Alok Bishoyi",
      "photoUrl": "//lh5.googleusercontent.com/-laHHpX5_hlY/AAAAAAAAAAI/AAAAAAAAAJ8/p_ZIeAuApPk/s50-c-k-no/photo.jpg",
      "userId": "101404215883860411191"
     },
     "user_tz": -330
    },
    "id": "tEJcNjtNdLUy",
    "outputId": "22d881b2-0f69-49b2-b466-d8d279cf05f9"
   },
   "outputs": [
    {
     "data": {
      "image/png": "[encoded data removed]",
      "text/plain": [
       "<matplotlib.figure.Figure at 0x7f64a632ba58>"
      ]
     },
     "metadata": {
      "tags": []
     },
     "output_type": "display_data"
    }
   ],
   "source": [
    "my_model.to_cpu()\n",
    "plt.style.use('seaborn')\n",
    "for particular_class_images in training_images:\n",
    "    class_encodings = my_model.single_forward(particular_class_images)\n",
    "    plt.scatter(class_encodings.data[:,0],class_encodings.data[:,1],color=np.random.random(3))\n",
    "#plt.axis('off')\n",
    "plt.savefig('cluster.png')\n"
   ]
  }
 ],
 "metadata": {
  "accelerator": "GPU",
  "colab": {
   "default_view": {},
   "name": "Siamese.ipynb",
   "provenance": [],
   "version": "0.3.2",
   "views": {}
  },
  "kernelspec": {
   "display_name": "Python 3",
   "language": "python",
   "name": "python3"
  },
  "language_info": {
   "codemirror_mode": {
    "name": "ipython",
    "version": 3
   },
   "file_extension": ".py",
   "mimetype": "text/x-python",
   "name": "python",
   "nbconvert_exporter": "python",
   "pygments_lexer": "ipython3",
   "version": "3.5.2"
  }
 },
 "nbformat": 4,
 "nbformat_minor": 1
}
