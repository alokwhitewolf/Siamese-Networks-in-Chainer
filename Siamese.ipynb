{
  "nbformat": 4,
  "nbformat_minor": 0,
  "metadata": {
    "colab": {
      "name": "Siamese.ipynb",
      "version": "0.3.2",
      "views": {},
      "default_view": {},
      "provenance": []
    },
    "kernelspec": {
      "name": "python3",
      "display_name": "Python 3"
    },
    "accelerator": "GPU"
  },
  "cells": [
    {
      "metadata": {
        "id": "RdHZr87pfMgN",
        "colab_type": "code",
        "colab": {
          "autoexec": {
            "startup": false,
            "wait_interval": 0
          }
        }
      },
      "cell_type": "code",
      "source": [
        "import numpy as np\n",
        "import chainer\n",
        "from chainer import cuda, Function, gradient_check, report, training, utils, Variable\n",
        "from chainer import datasets, iterators, optimizers, serializers, reporter\n",
        "from chainer import Link, Chain, ChainList\n",
        "from chainer.dataset import convert\n",
        "from chainer.dataset import iterator as iterator_module\n",
        "import chainer.functions as F\n",
        "import chainer.links as L\n",
        "from chainer.training import extensions\n",
        "\n",
        "from matplotlib import pyplot as plt\n",
        "import cupy as cp\n",
        "\n",
        "import itertools"
      ],
      "execution_count": 0,
      "outputs": []
    },
    {
      "metadata": {
        "id": "iVr21CEdh6Hm",
        "colab_type": "code",
        "colab": {
          "autoexec": {
            "startup": false,
            "wait_interval": 0
          }
        }
      },
      "cell_type": "code",
      "source": [
        "train, test = datasets.get_mnist(withlabel=True, ndim=2)"
      ],
      "execution_count": 0,
      "outputs": []
    },
    {
      "metadata": {
        "id": "WHIW5htKhhSR",
        "colab_type": "code",
        "colab": {
          "autoexec": {
            "startup": false,
            "wait_interval": 0
          }
        }
      },
      "cell_type": "code",
      "source": [
        "train_images, train_labels = train._datasets[0],train._datasets[1]\n",
        "test_images, test_labels = test._datasets[0],test._datasets[1]\n",
        "del(train)\n",
        "del(test)\n"
      ],
      "execution_count": 0,
      "outputs": []
    },
    {
      "metadata": {
        "id": "QCdNVjm_ici7",
        "colab_type": "code",
        "colab": {
          "autoexec": {
            "startup": false,
            "wait_interval": 0
          },
          "output_extras": [
            {
              "item_id": 1
            }
          ],
          "base_uri": "https://localhost:8080/",
          "height": 52
        },
        "outputId": "18b28dd5-75d4-4276-aa6a-92745f1c4138",
        "executionInfo": {
          "status": "ok",
          "timestamp": 1521578180710,
          "user_tz": -330,
          "elapsed": 1126,
          "user": {
            "displayName": "Alok Bishoyi",
            "photoUrl": "//lh5.googleusercontent.com/-laHHpX5_hlY/AAAAAAAAAAI/AAAAAAAAAJ8/p_ZIeAuApPk/s50-c-k-no/photo.jpg",
            "userId": "101404215883860411191"
          }
        }
      },
      "cell_type": "code",
      "source": [
        "if chainer.cuda.available:\n",
        "  xp = cp\n",
        "else:\n",
        "  xp = np\n",
        "\n",
        "anchor_images = np.empty((1,28,28)).astype(np.float32)\n",
        "training_images = np.empty((1,10,28,28)).astype(np.float32)\n",
        "for i in range(10):\n",
        "  if i == 0:\n",
        "    class_i_images = train_images[np.random.choice(np.where(train_labels == i)[0],11)] #Sample 11 images of class i\n",
        "    to_anchor, to_train = class_i_images[-1], class_i_images[:-1]\n",
        "    anchor_images[i] = to_anchor.reshape(1,28,28)\n",
        "    training_images[i] = to_train.reshape(1,10,28,28)\n",
        "  else:\n",
        "    class_i_images = train_images[np.random.choice(np.where(train_labels == i)[0],11)]\n",
        "    to_anchor, to_train = class_i_images[-1], class_i_images[:-1]\n",
        "    to_anchor = to_anchor.reshape(1,28,28)\n",
        "    to_train = to_train.reshape(1,10,28,28)\n",
        "    \n",
        "    anchor_images = np.vstack((anchor_images, to_anchor))\n",
        "    training_images = np.vstack((training_images, to_train)) \n",
        "print(anchor_images.shape)\n",
        "print(training_images.shape)"
      ],
      "execution_count": 4,
      "outputs": [
        {
          "output_type": "stream",
          "text": [
            "(10, 28, 28)\n",
            "(10, 10, 28, 28)\n"
          ],
          "name": "stdout"
        }
      ]
    },
    {
      "metadata": {
        "id": "ruHpK6DixKJZ",
        "colab_type": "code",
        "colab": {
          "autoexec": {
            "startup": false,
            "wait_interval": 0
          }
        }
      },
      "cell_type": "code",
      "source": [
        "class SiameseNetwork(Chain):\n",
        "\n",
        "    def __init__(self):\n",
        "        super(SiameseNetwork, self).__init__(\n",
        "            conv1=L.Convolution2D(1, 20, ksize=5, stride=1),\n",
        "            conv2=L.Convolution2D(20, 50, ksize=5, stride=1),\n",
        "            fc3=L.Linear(800, 500),\n",
        "            fc4=L.Linear(500, 10),\n",
        "            fc5=L.Linear(10, 2),\n",
        "        )\n",
        "\n",
        "    def single_forward(self, x_data, train=True):\n",
        "        x = Variable(x_data)\n",
        "        x = F.reshape(x, (-1,1,28,28))\n",
        "        \n",
        "        h = F.max_pooling_2d(self.conv1(x), ksize=2, stride=2)\n",
        "        h = F.max_pooling_2d(self.conv2(h), ksize=2, stride=2)\n",
        "        h = F.relu(self.fc3(h))\n",
        "        h = self.fc4(h)\n",
        "        y = self.fc5(h)\n",
        "\n",
        "        return y\n",
        "\n",
        "    def __call__(self, anchor_img, pos_img, neg_img, train=True):\n",
        "        anchor_encoding = self.single_forward(anchor_img)\n",
        "        pos_img_encoding = self.single_forward(pos_img)\n",
        "        neg_img_encoding = self.single_forward(neg_img)\n",
        "        \n",
        "\n",
        "        return (anchor_encoding, pos_img_encoding, neg_img_encoding)\n",
        "\n"
      ],
      "execution_count": 0,
      "outputs": []
    },
    {
      "metadata": {
        "id": "G-lomVEjov30",
        "colab_type": "code",
        "colab": {
          "autoexec": {
            "startup": false,
            "wait_interval": 0
          },
          "output_extras": [
            {
              "item_id": 10
            },
            {
              "item_id": 11
            },
            {
              "item_id": 12
            }
          ],
          "base_uri": "https://localhost:8080/",
          "height": 542
        },
        "outputId": "cde1cbc4-4070-4059-8a68-f1c800e09a40",
        "executionInfo": {
          "status": "ok",
          "timestamp": 1521578290001,
          "user_tz": -330,
          "elapsed": 96828,
          "user": {
            "displayName": "Alok Bishoyi",
            "photoUrl": "//lh5.googleusercontent.com/-laHHpX5_hlY/AAAAAAAAAAI/AAAAAAAAAJ8/p_ZIeAuApPk/s50-c-k-no/photo.jpg",
            "userId": "101404215883860411191"
          }
        }
      },
      "cell_type": "code",
      "source": [
        "my_model = SiameseNetwork()\n",
        "my_model.to_gpu()\n",
        "\n",
        "optimizer = optimizers.SGD()\n",
        "optimizer.setup(my_model)\n",
        "\n",
        "epoch_losses = []\n",
        "validation_accuracy = []\n",
        "for epoch in range(10):\n",
        "  epoch_loss = 0\n",
        "  for pos_id,neg_id in itertools.combinations(range(10),2):\n",
        "    for pos_image in training_images[pos_id]:\n",
        "      anchor = anchor_images[pos_id]\n",
        "      batch_anchor = cp.asarray(np.repeat(np.reshape(anchor,(-1,28,28)),10,axis=0))\n",
        "      \n",
        "      \n",
        "      batch_pos_image = cp.asarray(np.repeat(cp.reshape(pos_image,(-1,28,28)),10,axis=0))\n",
        "      batch_neg_image = cp.asarray(training_images[neg_id])\n",
        "      \n",
        "   \n",
        "      anchor_encoding, pos_img_encoding, neg_img_encoding = my_model(batch_anchor, \n",
        "                                                                 batch_pos_image,\n",
        "                                                                 batch_neg_image)\n",
        "      \n",
        "      my_model.cleargrads()\n",
        "      loss = F.triplet(anchor_encoding, pos_img_encoding, neg_img_encoding)\n",
        "      epoch_loss += loss\n",
        "      loss.backward()\n",
        "      optimizer.update()\n",
        "  \n",
        "  print(\"epoch no: \",epoch,\"  loss: \", epoch_loss.data)\n",
        "  epoch_losses.append(epoch_loss.data)\n",
        "      \n",
        "plt.plot(epoch_losses)      \n",
        "      \n",
        "      \n",
        "    \n",
        "    \n",
        "  \n",
        "  "
      ],
      "execution_count": 6,
      "outputs": [
        {
          "output_type": "stream",
          "text": [
            "epoch no:  0   loss:  9.723875\n",
            "epoch no:  1   loss:  5.457358\n",
            "epoch no:  2   loss:  1.2836628\n",
            "epoch no:  3   loss:  0.405927\n",
            "epoch no:  4   loss:  0.24726214\n",
            "epoch no:  5   loss:  0.13040859\n",
            "epoch no:  6   loss:  0.07559173\n",
            "epoch no:  7   loss:  0.097175986\n",
            "epoch no:  8   loss:  0.24120624\n",
            "epoch no:  9   loss:  0.02868101\n"
          ],
          "name": "stdout"
        },
        {
          "output_type": "execute_result",
          "data": {
            "text/plain": [
              "[<matplotlib.lines.Line2D at 0x7f7207ae6860>]"
            ]
          },
          "metadata": {
            "tags": []
          },
          "execution_count": 6
        },
        {
          "output_type": "display_data",
          "data": {
            "image/png": "[encoded data removed]",
            "text/plain": [
              "<matplotlib.figure.Figure at 0x7f72093d2940>"
            ]
          },
          "metadata": {
            "tags": []
          }
        }
      ]
    },
    {
      "metadata": {
        "id": "GDxaM_eNDOOt",
        "colab_type": "code",
        "colab": {
          "autoexec": {
            "startup": false,
            "wait_interval": 0
          }
        }
      },
      "cell_type": "code",
      "source": [
        "def predict(image, model):\n",
        "  sample_output = model.single_forward(cp.asarray(train_images[0])).data\n",
        "  anchor_outputs = model.single_forward(cp.asarray(anchor_images)).data\n",
        "  \n",
        "  sample_output = cp.repeat(sample_output,10,axis=0)\n",
        "  diff = sample_output - anchor_outputs\n",
        "  diff_sq = diff**2\n",
        "  \n",
        "  return cp.asnumpy(cp.argmin(cp.sum(diff_sq,axis =1)))\n"
      ],
      "execution_count": 0,
      "outputs": []
    }
  ]
}